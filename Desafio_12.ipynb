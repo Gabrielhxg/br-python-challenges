{
  "nbformat": 4,
  "nbformat_minor": 0,
  "metadata": {
    "anaconda-cloud": {},
    "colab": {
      "name": "Desafio 12.ipynb",
      "provenance": [],
      "include_colab_link": true
    },
    "kernelspec": {
      "display_name": "Python 3",
      "language": "python",
      "name": "python3"
    },
    "language_info": {
      "codemirror_mode": {
        "name": "ipython",
        "version": 3
      },
      "file_extension": ".py",
      "mimetype": "text/x-python",
      "name": "python",
      "nbconvert_exporter": "python",
      "pygments_lexer": "ipython3",
      "version": "3.7.9"
    }
  },
  "cells": [
    {
      "cell_type": "markdown",
      "metadata": {
        "id": "view-in-github",
        "colab_type": "text"
      },
      "source": [
        "<a href=\"https://colab.research.google.com/github/Gabrielhxg/br-python-challenges/blob/master/Desafio_12.ipynb\" target=\"_parent\"><img src=\"https://colab.research.google.com/assets/colab-badge.svg\" alt=\"Open In Colab\"/></a>"
      ]
    },
    {
      "cell_type": "markdown",
      "metadata": {
        "id": "AYHY2YXQf6J2"
      },
      "source": [
        "### Desafio 12\n",
        "\n",
        "Escreva uma função em Python para verificar a validade de uma senha.\n",
        "\n",
        "A senha deve ter:\n",
        "\n",
        "* Pelo menos 1 letra entre [a-z] e 1 letra entre [A-Z].\n",
        "* Pelo menos 1 número entre [0-9].\n",
        "* Pelo menos 1 caractere de [$ # @].\n",
        "* Comprimento mínimo de 6 caracteres.\n",
        "* Comprimento máximo de 16 caracteres.\n",
        "\n",
        "Entradas: \"12345678\", \"J3sus0\", \"#Te5t300\", \"J*90j12374\", \"Michheeul\", \"Monk3y6\"\n",
        "\n",
        "A saída deve ser a senha e um texto indicando se a senha é válida ou inválida:\n",
        "\n",
        "```\n",
        "\"1234\" - Senha inválida\n",
        "\"Qw#1234\" - Senha válida\n",
        "```"
      ]
    },
    {
      "cell_type": "code",
      "metadata": {
        "id": "UGgtGYGGf6J3"
      },
      "source": [
        "def validador(senha):\n",
        "  if (len(senha) < 6) or (len(senha) > 16):\n",
        "    print(f'{senha} - senha inválida')\n",
        "    print('Sua senha deve conter entre 6 e 16 caracteres.')\n",
        "  \n",
        "  elif any(car.isupper() for car in senha) == False:\n",
        "    print(f'{senha} - senha inválida')\n",
        "    print('Sua senha deve conter pelo menos uma letra maiúscula.')\n",
        "\n",
        "  elif any(car.islower() for car in senha) == False:\n",
        "    print(f'{senha} - senha inválida')\n",
        "    print('Sua senha deve conter pelo menos uma letra minúscula.')\n",
        "\n",
        "  elif any(car in(['$', '#', '@']) for car in senha) == False:\n",
        "    print(f'{senha} - senha inválida')\n",
        "    print(\"Sua senha deve conter pelo menos um desses caracteres: ['$', '#', '@'].\")\n",
        "\n",
        "  elif any(car.isnumeric() for car in senha) == False:\n",
        "    print(f'{senha} - senha inválida')\n",
        "    print(\"Sua senha deve conter pelo menos um número.\")\n",
        "\n",
        "  else:\n",
        "    print(f'{senha} - senha válida')\n"
      ],
      "execution_count": 24,
      "outputs": []
    },
    {
      "cell_type": "code",
      "metadata": {
        "id": "rp5DFU8v24aa",
        "outputId": "6ede59ae-1b72-43ff-bc37-248ff05b64f8",
        "colab": {
          "base_uri": "https://localhost:8080/"
        }
      },
      "source": [
        "validador(\"1234\")"
      ],
      "execution_count": 27,
      "outputs": [
        {
          "output_type": "stream",
          "name": "stdout",
          "text": [
            "1234 - senha inválida\n",
            "Sua senha deve conter entre 6 e 16 caracteres.\n"
          ]
        }
      ]
    },
    {
      "cell_type": "code",
      "metadata": {
        "id": "GU3BWEV_8gVm",
        "outputId": "95c5dee3-ae31-49fc-f81a-f7dd8863ff67",
        "colab": {
          "base_uri": "https://localhost:8080/"
        }
      },
      "source": [
        "validador(\"123456\")"
      ],
      "execution_count": 28,
      "outputs": [
        {
          "output_type": "stream",
          "name": "stdout",
          "text": [
            "123456 - senha inválida\n",
            "Sua senha deve conter pelo menos uma letra maiúscula.\n"
          ]
        }
      ]
    },
    {
      "cell_type": "code",
      "metadata": {
        "id": "B0zw6S8P8gcQ",
        "outputId": "cc7c52ee-0de4-4b72-d7ef-645a56246ab0",
        "colab": {
          "base_uri": "https://localhost:8080/"
        }
      },
      "source": [
        "validador(\"A12345\")"
      ],
      "execution_count": 29,
      "outputs": [
        {
          "output_type": "stream",
          "name": "stdout",
          "text": [
            "A12345 - senha inválida\n",
            "Sua senha deve conter pelo menos uma letra minúscula.\n"
          ]
        }
      ]
    },
    {
      "cell_type": "code",
      "metadata": {
        "id": "mdhUzprF8gkn",
        "outputId": "a9fcd1a9-484e-489d-c39c-f2a629243d4c",
        "colab": {
          "base_uri": "https://localhost:8080/"
        }
      },
      "source": [
        "validador(\"Aa1234\")"
      ],
      "execution_count": 30,
      "outputs": [
        {
          "output_type": "stream",
          "name": "stdout",
          "text": [
            "Aa1234 - senha inválida\n",
            "Sua senha deve conter pelo menos um desses caracteres: ['$', '#', '@'].\n"
          ]
        }
      ]
    },
    {
      "cell_type": "code",
      "metadata": {
        "id": "-GETzUtA8gt0",
        "outputId": "6968e377-ba14-46a7-d9f5-16bdeaec2130",
        "colab": {
          "base_uri": "https://localhost:8080/"
        }
      },
      "source": [
        "validador(\"A#bcdef\")"
      ],
      "execution_count": 32,
      "outputs": [
        {
          "output_type": "stream",
          "name": "stdout",
          "text": [
            "A#bcdef - senha inválida\n",
            "Sua senha deve conter pelo menos um número.\n"
          ]
        }
      ]
    },
    {
      "cell_type": "code",
      "metadata": {
        "id": "9h2Fin918aq4",
        "outputId": "d45f7dad-94fb-4ca4-a47e-4ea3a16c25f7",
        "colab": {
          "base_uri": "https://localhost:8080/"
        }
      },
      "source": [
        "validador(\"Qw#123\")"
      ],
      "execution_count": 33,
      "outputs": [
        {
          "output_type": "stream",
          "name": "stdout",
          "text": [
            "Qw#123 - senha válida\n"
          ]
        }
      ]
    }
  ]
}