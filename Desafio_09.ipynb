{
  "nbformat": 4,
  "nbformat_minor": 0,
  "metadata": {
    "anaconda-cloud": {},
    "colab": {
      "name": "Desafio 9.ipynb",
      "provenance": [],
      "include_colab_link": true
    },
    "kernelspec": {
      "display_name": "Python 3",
      "language": "python",
      "name": "python3"
    },
    "language_info": {
      "codemirror_mode": {
        "name": "ipython",
        "version": 3
      },
      "file_extension": ".py",
      "mimetype": "text/x-python",
      "name": "python",
      "nbconvert_exporter": "python",
      "pygments_lexer": "ipython3",
      "version": "3.7.9"
    }
  },
  "cells": [
    {
      "cell_type": "markdown",
      "metadata": {
        "id": "view-in-github",
        "colab_type": "text"
      },
      "source": [
        "<a href=\"https://colab.research.google.com/github/Gabrielhxg/br-python-challenges/blob/master/Desafio_09.ipynb\" target=\"_parent\"><img src=\"https://colab.research.google.com/assets/colab-badge.svg\" alt=\"Open In Colab\"/></a>"
      ]
    },
    {
      "cell_type": "markdown",
      "metadata": {
        "id": "HpvTpUBGf6Jr"
      },
      "source": [
        "### Desafio 9\n",
        "\n",
        "Escreva uma função que retorne a soma dos múltiplos de 3 e 5 entre 0 e um número limite, que vai ser utilizado como parâmetro. \\\n",
        "Por exemplo, se o limite for 20, ele retornará a soma de 3, 5, 6, 9, 10, 12, 15, 18, 20."
      ]
    },
    {
      "cell_type": "code",
      "metadata": {
        "id": "a_6aqcKp6wrN"
      },
      "source": [
        "def soma_se(x):\n",
        "  '''\n",
        "  Retorna a soma dos múltiplos de 3 e 5 entre 0 e um número limite.\n",
        "  '''\n",
        "  sum = 0\n",
        "  to_sum = []\n",
        "  \n",
        "  for each in range(x+1):\n",
        "    if (each%3 == 0) or (each%5 == 0):\n",
        "      sum += each\n",
        "      to_sum.append(each)\n",
        "\n",
        "  return print(f'''  Itens somados: {to_sum},\n",
        "  Soma total: {sum}''')"
      ],
      "execution_count": 24,
      "outputs": []
    },
    {
      "cell_type": "code",
      "metadata": {
        "id": "HvpJHMUBmS7l",
        "outputId": "00a93799-b32e-4efa-a056-8537c593df4a",
        "colab": {
          "base_uri": "https://localhost:8080/"
        }
      },
      "source": [
        "soma_se(15)"
      ],
      "execution_count": 26,
      "outputs": [
        {
          "output_type": "stream",
          "name": "stdout",
          "text": [
            "  Itens somados: [0, 3, 5, 6, 9, 10, 12, 15],\n",
            "  Soma total: 60\n"
          ]
        }
      ]
    }
  ]
}