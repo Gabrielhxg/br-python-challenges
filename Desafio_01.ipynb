{
  "nbformat": 4,
  "nbformat_minor": 0,
  "metadata": {
    "anaconda-cloud": {},
    "colab": {
      "name": "Desafio 1.ipynb",
      "provenance": [],
      "include_colab_link": true
    },
    "kernelspec": {
      "display_name": "Python 3",
      "language": "python",
      "name": "python3"
    },
    "language_info": {
      "codemirror_mode": {
        "name": "ipython",
        "version": 3
      },
      "file_extension": ".py",
      "mimetype": "text/x-python",
      "name": "python",
      "nbconvert_exporter": "python",
      "pygments_lexer": "ipython3",
      "version": "3.7.9"
    }
  },
  "cells": [
    {
      "cell_type": "markdown",
      "metadata": {
        "id": "view-in-github",
        "colab_type": "text"
      },
      "source": [
        "<a href=\"https://colab.research.google.com/github/Gabrielhxg/br-python-challenges/blob/master/Desafio_01.ipynb\" target=\"_parent\"><img src=\"https://colab.research.google.com/assets/colab-badge.svg\" alt=\"Open In Colab\"/></a>"
      ]
    },
    {
      "cell_type": "markdown",
      "metadata": {
        "id": "SbLLE9q1eldC"
      },
      "source": [
        "### Desafio 1\n",
        "\n",
        "Escreva um programa em Python para contabilizar a quantidade de ocorrências de cada palavra."
      ]
    },
    {
      "cell_type": "code",
      "metadata": {
        "id": "WhtbdwFseldD"
      },
      "source": [
        "palavras = [\n",
        "   'red', 'green', 'black', 'pink', 'black', 'white', 'black', 'eyes',\n",
        "   'white', 'black', 'orange', 'pink', 'pink', 'red', 'red', 'white', 'orange',\n",
        "   'white', \"black\", 'pink', 'green', 'green', 'pink', 'green', 'pink',\n",
        "   'white', 'orange', \"orange\", 'red'\n",
        "]"
      ],
      "execution_count": 11,
      "outputs": []
    },
    {
      "cell_type": "code",
      "metadata": {
        "id": "M58o1U9KfAxa"
      },
      "source": [
        "# Tallying \n",
        "\n",
        "# 1a forma | list of lists: count() and for-loop comprehension \n",
        "cont_list = [[x, palavras.count(x)] for x in set(palavras)]\n",
        "\n",
        "# 2a forma | Dictionary\n",
        "cont_dict = dict((x, palavras.count(x)) for x in set(palavras))\n",
        "\n",
        "# 3a forma | Pandas\n",
        "import pandas as pd\n",
        "serie = pd.Series(palavras, name = 'cores')\n",
        "cont_pd = serie.groupby(serie).count()\n",
        "\n",
        "# 4a forma | collections, Counter() -- Mais rápido que .count() por um fator constante = 2, [O(n^2) vs O(n)]\n",
        "from collections import Counter\n",
        "cont_Counter = Counter(palavras)"
      ],
      "execution_count": 19,
      "outputs": []
    },
    {
      "cell_type": "code",
      "metadata": {
        "id": "IgWEgmF1yJFD",
        "outputId": "c654f39c-6f28-4304-b128-a9ad714ed8f0",
        "colab": {
          "base_uri": "https://localhost:8080/"
        }
      },
      "source": [
        "cont_list"
      ],
      "execution_count": 20,
      "outputs": [
        {
          "output_type": "execute_result",
          "data": {
            "text/plain": [
              "[['orange', 4],\n",
              " ['eyes', 1],\n",
              " ['red', 4],\n",
              " ['pink', 6],\n",
              " ['black', 5],\n",
              " ['white', 5],\n",
              " ['green', 4]]"
            ]
          },
          "metadata": {},
          "execution_count": 20
        }
      ]
    },
    {
      "cell_type": "code",
      "metadata": {
        "id": "vPufm10ByGUI",
        "outputId": "a896c03e-b4a7-46a7-b43c-20fffd4f197c",
        "colab": {
          "base_uri": "https://localhost:8080/"
        }
      },
      "source": [
        "cont_dict"
      ],
      "execution_count": 21,
      "outputs": [
        {
          "output_type": "execute_result",
          "data": {
            "text/plain": [
              "{'black': 5,\n",
              " 'eyes': 1,\n",
              " 'green': 4,\n",
              " 'orange': 4,\n",
              " 'pink': 6,\n",
              " 'red': 4,\n",
              " 'white': 5}"
            ]
          },
          "metadata": {},
          "execution_count": 21
        }
      ]
    },
    {
      "cell_type": "code",
      "metadata": {
        "id": "b8h__x0QyDEF",
        "outputId": "a00dbb46-07ca-4aca-e04f-8452f7a7c447",
        "colab": {
          "base_uri": "https://localhost:8080/"
        }
      },
      "source": [
        "cont_pd"
      ],
      "execution_count": 22,
      "outputs": [
        {
          "output_type": "execute_result",
          "data": {
            "text/plain": [
              "cores\n",
              "black     5\n",
              "eyes      1\n",
              "green     4\n",
              "orange    4\n",
              "pink      6\n",
              "red       4\n",
              "white     5\n",
              "Name: cores, dtype: int64"
            ]
          },
          "metadata": {},
          "execution_count": 22
        }
      ]
    },
    {
      "cell_type": "code",
      "metadata": {
        "id": "aIEix1gRx96m",
        "outputId": "bd952f0c-8042-404e-b328-45f6d51fc516",
        "colab": {
          "base_uri": "https://localhost:8080/"
        }
      },
      "source": [
        "cont_Counter"
      ],
      "execution_count": 23,
      "outputs": [
        {
          "output_type": "execute_result",
          "data": {
            "text/plain": [
              "Counter({'black': 5,\n",
              "         'eyes': 1,\n",
              "         'green': 4,\n",
              "         'orange': 4,\n",
              "         'pink': 6,\n",
              "         'red': 4,\n",
              "         'white': 5})"
            ]
          },
          "metadata": {},
          "execution_count": 23
        }
      ]
    },
    {
      "cell_type": "code",
      "metadata": {
        "id": "OL-Aa4RGxwqG"
      },
      "source": [
        ""
      ],
      "execution_count": null,
      "outputs": []
    }
  ]
}