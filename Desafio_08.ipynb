{
  "nbformat": 4,
  "nbformat_minor": 0,
  "metadata": {
    "anaconda-cloud": {},
    "colab": {
      "name": "Desafio 8.ipynb",
      "provenance": [],
      "include_colab_link": true
    },
    "kernelspec": {
      "display_name": "Python 3",
      "language": "python",
      "name": "python3"
    },
    "language_info": {
      "codemirror_mode": {
        "name": "ipython",
        "version": 3
      },
      "file_extension": ".py",
      "mimetype": "text/x-python",
      "name": "python",
      "nbconvert_exporter": "python",
      "pygments_lexer": "ipython3",
      "version": "3.7.9"
    }
  },
  "cells": [
    {
      "cell_type": "markdown",
      "metadata": {
        "id": "view-in-github",
        "colab_type": "text"
      },
      "source": [
        "<a href=\"https://colab.research.google.com/github/Gabrielhxg/br-python-challenges/blob/master/Desafio_08.ipynb\" target=\"_parent\"><img src=\"https://colab.research.google.com/assets/colab-badge.svg\" alt=\"Open In Colab\"/></a>"
      ]
    },
    {
      "cell_type": "markdown",
      "metadata": {
        "id": "o3tkeMDNf6Jo"
      },
      "source": [
        "### Desafio 8\n",
        "\n",
        "Escreva um script Python para encontrar as 10 palavras mais longas em um arquivo de texto.\n",
        "O arquivo .txt está localizado na mesma pasta do projeto (**texto.txt**)."
      ]
    },
    {
      "cell_type": "code",
      "metadata": {
        "id": "yA5ZbDTtIH47"
      },
      "source": [
        "# Texto\n",
        "texto = '''What is Python language? Python is a widely used high-level, general-purpose, interpreted, dynamic programming language. Its design philosophy emphasizes code readability, and its syntax allows programmers to express concepts in fewer lines of code than possible in languages such as C++ or Java. Python supports multiple programming paradigms, including object-oriented, imperative and functional programming or procedural styles. It features a dynamic type system and automatic memory management and has a large and comprehensive standard library. The best way we learn anything is by practice and exercise questions. We  have started this section for those (beginner to intermediate) who are familiar with Python.'''\n",
        "\n",
        "# Palavras distintas\n",
        "palavras = texto.split()\n",
        "\n",
        "# Retira pontuações \n",
        "palavras = [palavra.strip(\".,()?\") for palavra in palavras]\n",
        "\n",
        "# Dicionário palavra_tamanho\n",
        "palavra_tamanho = dict((palavra,len(palavra)) for palavra in palavras)\n",
        "\n",
        "# Ordena o dicionário por tamanho das palavras | nameless function\n",
        "sort_orders = sorted(palavra_tamanho.items(), key=lambda x: x[1], reverse = True)\n",
        "\n",
        "# Rank 10 palavras mais longas \n",
        "top10 = sort_orders[0:10]"
      ],
      "execution_count": 71,
      "outputs": []
    },
    {
      "cell_type": "code",
      "metadata": {
        "id": "NbRKGS8bRH7N",
        "outputId": "629e15cb-0b41-4c38-bd06-fbbd899d3cb7",
        "colab": {
          "base_uri": "https://localhost:8080/"
        }
      },
      "source": [
        "top10"
      ],
      "execution_count": 72,
      "outputs": [
        {
          "output_type": "execute_result",
          "data": {
            "text/plain": [
              "[('general-purpose', 15),\n",
              " ('object-oriented', 15),\n",
              " ('comprehensive', 13),\n",
              " ('intermediate', 12),\n",
              " ('interpreted', 11),\n",
              " ('programming', 11),\n",
              " ('readability', 11),\n",
              " ('programmers', 11),\n",
              " ('high-level', 10),\n",
              " ('philosophy', 10)]"
            ]
          },
          "metadata": {},
          "execution_count": 72
        }
      ]
    }
  ]
}