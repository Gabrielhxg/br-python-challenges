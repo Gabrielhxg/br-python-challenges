{
  "nbformat": 4,
  "nbformat_minor": 0,
  "metadata": {
    "anaconda-cloud": {},
    "colab": {
      "name": "Desafio 10.ipynb",
      "provenance": [],
      "include_colab_link": true
    },
    "kernelspec": {
      "display_name": "Python 3",
      "language": "python",
      "name": "python3"
    },
    "language_info": {
      "codemirror_mode": {
        "name": "ipython",
        "version": 3
      },
      "file_extension": ".py",
      "mimetype": "text/x-python",
      "name": "python",
      "nbconvert_exporter": "python",
      "pygments_lexer": "ipython3",
      "version": "3.7.9"
    }
  },
  "cells": [
    {
      "cell_type": "markdown",
      "metadata": {
        "id": "view-in-github",
        "colab_type": "text"
      },
      "source": [
        "<a href=\"https://colab.research.google.com/github/Gabrielhxg/br-python-challenges/blob/master/Desafio_10.ipynb\" target=\"_parent\"><img src=\"https://colab.research.google.com/assets/colab-badge.svg\" alt=\"Open In Colab\"/></a>"
      ]
    },
    {
      "cell_type": "markdown",
      "metadata": {
        "id": "a4-FLDRof6Jv"
      },
      "source": [
        "### Desafio 10\n",
        "\n",
        "Dada uma lista, divida-a em 3 partes iguais e reverta a ordem de cada lista.\n",
        "\n",
        "**Exemplo:** \n",
        "\n",
        "Entrada: \\\n",
        "sampleList = [11, 45, 8, 23, 14, 12, 78, 45, 89]\n",
        "\n",
        "Saída: \\\n",
        "Parte 1 [8, 45, 11] \\\n",
        "Parte 2 [12, 14, 23] \\\n",
        "Parte 3 [89, 45, 78] "
      ]
    },
    {
      "cell_type": "code",
      "metadata": {
        "id": "pNrXNVqf8Wc1"
      },
      "source": [
        "# Apontador de exceção\n",
        "class MyError(Exception):\n",
        "    pass\n",
        "\n",
        "# Função \n",
        "def desafio10(lista):\n",
        "  '''\n",
        "    Recebe uma lista, divide-a em 3 partes iguais e reverte a ordem de cada sublista.\n",
        "  '''\n",
        "\n",
        "  # Define lenth\n",
        "  lenth = len(lista)\n",
        "\n",
        "  # Exception \n",
        "  if (len(lista)%3!=0):\n",
        "    # quit the function and any function(s) that may have called it\n",
        "    raise MyError('A lista deve ser divisível por 3.')\n",
        "  \n",
        "  # Third\n",
        "  third = int(lenth/3)\n",
        "\n",
        "  # List division and reversing\n",
        "  sub_list1 = lista[:third]\n",
        "  sub_list1 = list(reversed(sub_list1))\n",
        "\n",
        "  sub_list2 = lista[third:(2*third)]\n",
        "  sub_list2 = list(reversed(sub_list2))\n",
        "\n",
        "  sub_list3 = lista[(2*third):(3*third)]\n",
        "  sub_list3 = list(reversed(sub_list3))\n",
        "\n",
        "  print(f'Parte 1 {sub_list1}')\n",
        "  print(f'Parte 2 {sub_list2}')\n",
        "  print(f'Parte 3 {sub_list3}')\n",
        "\n",
        "  return sub_list1, sub_list2, sub_list3"
      ],
      "execution_count": 45,
      "outputs": []
    },
    {
      "cell_type": "markdown",
      "metadata": {
        "id": "h1yd7uixyx42"
      },
      "source": [
        "**Teste**"
      ]
    },
    {
      "cell_type": "code",
      "metadata": {
        "id": "CA4i3qXaxgbB",
        "outputId": "442eb3a6-8449-4eda-ad2d-2ead17ee95bb",
        "colab": {
          "base_uri": "https://localhost:8080/"
        }
      },
      "source": [
        "# Sample list\n",
        "sampleList = [1,2,3,4,5,6,7,8,9]\n",
        "\n",
        "# Aplicação \n",
        "desafio10(sampleList)"
      ],
      "execution_count": 49,
      "outputs": [
        {
          "output_type": "stream",
          "name": "stdout",
          "text": [
            "Parte 1 [3, 2, 1]\n",
            "Parte 2 [6, 5, 4]\n",
            "Parte 3 [9, 8, 7]\n"
          ]
        },
        {
          "output_type": "execute_result",
          "data": {
            "text/plain": [
              "([3, 2, 1], [6, 5, 4], [9, 8, 7])"
            ]
          },
          "metadata": {},
          "execution_count": 49
        }
      ]
    },
    {
      "cell_type": "markdown",
      "metadata": {
        "id": "-8SQTjOeyzpp"
      },
      "source": [
        "**Exceção** "
      ]
    },
    {
      "cell_type": "code",
      "metadata": {
        "id": "qS4AabN9yBjd",
        "outputId": "19557cad-0baa-4a84-f0ed-0f44fbfdbf05",
        "colab": {
          "base_uri": "https://localhost:8080/",
          "height": 317
        }
      },
      "source": [
        "# Error list\n",
        "errorList = [1,2,3,4,5,6,7,8,9,10]\n",
        "\n",
        "# Aplicação \n",
        "desafio10(errorList)"
      ],
      "execution_count": 50,
      "outputs": [
        {
          "output_type": "error",
          "ename": "MyError",
          "evalue": "ignored",
          "traceback": [
            "\u001b[0;31m---------------------------------------------------------------------------\u001b[0m",
            "\u001b[0;31mMyError\u001b[0m                                   Traceback (most recent call last)",
            "\u001b[0;32m<ipython-input-50-c059fe753582>\u001b[0m in \u001b[0;36m<module>\u001b[0;34m()\u001b[0m\n\u001b[1;32m      3\u001b[0m \u001b[0;34m\u001b[0m\u001b[0m\n\u001b[1;32m      4\u001b[0m \u001b[0;31m# Aplicação\u001b[0m\u001b[0;34m\u001b[0m\u001b[0;34m\u001b[0m\u001b[0;34m\u001b[0m\u001b[0m\n\u001b[0;32m----> 5\u001b[0;31m \u001b[0mdesafio10\u001b[0m\u001b[0;34m(\u001b[0m\u001b[0merrorList\u001b[0m\u001b[0;34m)\u001b[0m\u001b[0;34m\u001b[0m\u001b[0;34m\u001b[0m\u001b[0m\n\u001b[0m",
            "\u001b[0;32m<ipython-input-45-2fbb7576f63c>\u001b[0m in \u001b[0;36mdesafio10\u001b[0;34m(lista)\u001b[0m\n\u001b[1;32m     15\u001b[0m   \u001b[0;32mif\u001b[0m \u001b[0;34m(\u001b[0m\u001b[0mlen\u001b[0m\u001b[0;34m(\u001b[0m\u001b[0mlista\u001b[0m\u001b[0;34m)\u001b[0m\u001b[0;34m%\u001b[0m\u001b[0;36m3\u001b[0m\u001b[0;34m!=\u001b[0m\u001b[0;36m0\u001b[0m\u001b[0;34m)\u001b[0m\u001b[0;34m:\u001b[0m\u001b[0;34m\u001b[0m\u001b[0;34m\u001b[0m\u001b[0m\n\u001b[1;32m     16\u001b[0m     \u001b[0;31m# quit the function and any function(s) that may have called it\u001b[0m\u001b[0;34m\u001b[0m\u001b[0;34m\u001b[0m\u001b[0;34m\u001b[0m\u001b[0m\n\u001b[0;32m---> 17\u001b[0;31m     \u001b[0;32mraise\u001b[0m \u001b[0mMyError\u001b[0m\u001b[0;34m(\u001b[0m\u001b[0;34m'A lista deve ser divisível por 3.'\u001b[0m\u001b[0;34m)\u001b[0m\u001b[0;34m\u001b[0m\u001b[0;34m\u001b[0m\u001b[0m\n\u001b[0m\u001b[1;32m     18\u001b[0m \u001b[0;34m\u001b[0m\u001b[0m\n\u001b[1;32m     19\u001b[0m   \u001b[0;31m# Third\u001b[0m\u001b[0;34m\u001b[0m\u001b[0;34m\u001b[0m\u001b[0;34m\u001b[0m\u001b[0m\n",
            "\u001b[0;31mMyError\u001b[0m: A lista deve ser divisível por 3."
          ]
        }
      ]
    },
    {
      "cell_type": "code",
      "metadata": {
        "id": "3ZElRT50yC_U"
      },
      "source": [
        ""
      ],
      "execution_count": null,
      "outputs": []
    }
  ]
}